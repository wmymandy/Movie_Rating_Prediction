{
 "cells": [
  {
   "cell_type": "code",
   "execution_count": 9,
   "metadata": {},
   "outputs": [],
   "source": [
    "import pandas as pd\n",
    "import matplotlib.pyplot as plt\n",
    "from datetime import datetime\n",
    "import numpy as np"
   ]
  },
  {
   "cell_type": "code",
   "execution_count": 14,
   "metadata": {},
   "outputs": [],
   "source": [
    "df = pd.read_csv('./ratings.dat', names=['user', 'movie', 'rating', 'date'], delimiter='::', engine= 'python')"
   ]
  },
  {
   "cell_type": "code",
   "execution_count": 15,
   "metadata": {},
   "outputs": [
    {
     "name": "stdout",
     "output_type": "stream",
     "text": [
      "Rows: 10000054 ; Columns: 4 \n",
      "\n",
      "   movie  user  rating       date\n",
      "0    122     1     5.0  838985046\n",
      "1    185     1     5.0  838983525\n",
      "2    231     1     5.0  838983392\n",
      "3    292     1     5.0  838983421\n",
      "4    316     1     5.0  838983392\n"
     ]
    }
   ],
   "source": [
    "print('Rows:', df.shape[0], '; Columns:', df.shape[1], '\\n')\n",
    "from datetime import datetime\n",
    "#df.date = pd.to_datetime(df.date)\n",
    "df = df[['movie', 'user', 'rating', 'date']]\n",
    "print(df.head(5))"
   ]
  },
  {
   "cell_type": "code",
   "execution_count": 4,
   "metadata": {},
   "outputs": [],
   "source": [
    "df.to_csv(\"data10m.csv\", index = False)"
   ]
  },
  {
   "cell_type": "code",
   "execution_count": 5,
   "metadata": {},
   "outputs": [
    {
     "name": "stdout",
     "output_type": "stream",
     "text": [
      "No of Nan values in our dataframe :  0\n"
     ]
    }
   ],
   "source": [
    "# it returns True for a row that has atleast one Nan value.\n",
    "null_bool = df.isnull().any(axis = 1)\n",
    "\n",
    "# Removing those duplicates ( if any)\n",
    "df.drop(df[null_bool].index, inplace=True)\n",
    "# just to make sure that all Nan containing rows are deleted..\n",
    "print(\"No of Nan values in our dataframe : \", sum(df.isnull().any()))"
   ]
  },
  {
   "cell_type": "code",
   "execution_count": 6,
   "metadata": {},
   "outputs": [
    {
     "name": "stdout",
     "output_type": "stream",
     "text": [
      "There are 0 duplicate rating entries in the data..\n"
     ]
    }
   ],
   "source": [
    "dup_bool = df.duplicated(['movie','user','rating'])\n",
    "dups = sum(dup_bool) # by considering all columns..( including timestamp)\n",
    "print(\"There are {} duplicate rating entries in the data..\".format(dups))"
   ]
  },
  {
   "cell_type": "code",
   "execution_count": 10,
   "metadata": {},
   "outputs": [
    {
     "name": "stdout",
     "output_type": "stream",
     "text": [
      "Total data \n",
      "--------------------------------------------------\n",
      "\n",
      "Total No of ratings : 10000054\n",
      "Total No of Users   : 69878\n",
      "Total No of movies  : 10677\n"
     ]
    }
   ],
   "source": [
    "print(\"Total data \")\n",
    "print(\"-\"*50)\n",
    "print(\"\\nTotal No of ratings :\",df.shape[0])\n",
    "print(\"Total No of Users   :\", len(np.unique(df.user)))\n",
    "print(\"Total No of movies  :\", len(np.unique(df.movie)))"
   ]
  },
  {
   "cell_type": "code",
   "execution_count": 11,
   "metadata": {},
   "outputs": [
    {
     "data": {
      "text/plain": [
       "Text(0.5, 0, 'Rating (Out of 5)')"
      ]
     },
     "execution_count": 11,
     "metadata": {},
     "output_type": "execute_result"
    },
    {
     "data": {
      "image/png": "[encoded data removed]",
      "text/plain": [
       "<Figure size 432x288 with 1 Axes>"
      ]
     },
     "metadata": {
      "needs_background": "light"
     },
     "output_type": "display_data"
    }
   ],
   "source": [
    "df.rating.plot.hist(bins=50)\n",
    "plt.title(\"Distribution of Users' Ratings\")\n",
    "plt.ylabel('Number of Ratings')\n",
    "plt.xlabel('Rating (Out of 5)')"
   ]
  },
  {
   "cell_type": "code",
   "execution_count": 12,
   "metadata": {},
   "outputs": [
    {
     "data": {
      "text/html": [
       "<div>\n",
       "<style scoped>\n",
       "    .dataframe tbody tr th:only-of-type {\n",
       "        vertical-align: middle;\n",
       "    }\n",
       "\n",
       "    .dataframe tbody tr th {\n",
       "        vertical-align: top;\n",
       "    }\n",
       "\n",
       "    .dataframe thead th {\n",
       "        text-align: right;\n",
       "    }\n",
       "</style>\n",
       "<table border=\"1\" class=\"dataframe\">\n",
       "  <thead>\n",
       "    <tr style=\"text-align: right;\">\n",
       "      <th></th>\n",
       "      <th>count</th>\n",
       "      <th>mean</th>\n",
       "      <th>std</th>\n",
       "    </tr>\n",
       "    <tr>\n",
       "      <th>movie</th>\n",
       "      <th></th>\n",
       "      <th></th>\n",
       "      <th></th>\n",
       "    </tr>\n",
       "  </thead>\n",
       "  <tbody>\n",
       "    <tr>\n",
       "      <td>1</td>\n",
       "      <td>26449</td>\n",
       "      <td>3.928769</td>\n",
       "      <td>0.896315</td>\n",
       "    </tr>\n",
       "    <tr>\n",
       "      <td>2</td>\n",
       "      <td>12032</td>\n",
       "      <td>3.208070</td>\n",
       "      <td>0.951328</td>\n",
       "    </tr>\n",
       "    <tr>\n",
       "      <td>3</td>\n",
       "      <td>7790</td>\n",
       "      <td>3.150385</td>\n",
       "      <td>1.005159</td>\n",
       "    </tr>\n",
       "    <tr>\n",
       "      <td>4</td>\n",
       "      <td>1764</td>\n",
       "      <td>2.860544</td>\n",
       "      <td>1.087675</td>\n",
       "    </tr>\n",
       "    <tr>\n",
       "      <td>5</td>\n",
       "      <td>7135</td>\n",
       "      <td>3.077435</td>\n",
       "      <td>0.964899</td>\n",
       "    </tr>\n",
       "    <tr>\n",
       "      <td>6</td>\n",
       "      <td>13696</td>\n",
       "      <td>3.813011</td>\n",
       "      <td>0.888124</td>\n",
       "    </tr>\n",
       "    <tr>\n",
       "      <td>7</td>\n",
       "      <td>8064</td>\n",
       "      <td>3.365017</td>\n",
       "      <td>0.956471</td>\n",
       "    </tr>\n",
       "    <tr>\n",
       "      <td>8</td>\n",
       "      <td>899</td>\n",
       "      <td>3.131257</td>\n",
       "      <td>0.973772</td>\n",
       "    </tr>\n",
       "    <tr>\n",
       "      <td>9</td>\n",
       "      <td>2518</td>\n",
       "      <td>2.996823</td>\n",
       "      <td>0.962853</td>\n",
       "    </tr>\n",
       "    <tr>\n",
       "      <td>10</td>\n",
       "      <td>16918</td>\n",
       "      <td>3.428301</td>\n",
       "      <td>0.862376</td>\n",
       "    </tr>\n",
       "  </tbody>\n",
       "</table>\n",
       "</div>"
      ],
      "text/plain": [
       "       count      mean       std\n",
       "movie                           \n",
       "1      26449  3.928769  0.896315\n",
       "2      12032  3.208070  0.951328\n",
       "3       7790  3.150385  1.005159\n",
       "4       1764  2.860544  1.087675\n",
       "5       7135  3.077435  0.964899\n",
       "6      13696  3.813011  0.888124\n",
       "7       8064  3.365017  0.956471\n",
       "8        899  3.131257  0.973772\n",
       "9       2518  2.996823  0.962853\n",
       "10     16918  3.428301  0.862376"
      ]
     },
     "execution_count": 12,
     "metadata": {},
     "output_type": "execute_result"
    }
   ],
   "source": [
    "ratings_movie_summary = df.groupby('movie')['rating'].agg(['count', 'mean', 'std'])\n",
    "ratings_movie_summary.head(10)"
   ]
  },
  {
   "cell_type": "code",
   "execution_count": 13,
   "metadata": {},
   "outputs": [
    {
     "data": {
      "text/html": [
       "<div>\n",
       "<style scoped>\n",
       "    .dataframe tbody tr th:only-of-type {\n",
       "        vertical-align: middle;\n",
       "    }\n",
       "\n",
       "    .dataframe tbody tr th {\n",
       "        vertical-align: top;\n",
       "    }\n",
       "\n",
       "    .dataframe thead th {\n",
       "        text-align: right;\n",
       "    }\n",
       "</style>\n",
       "<table border=\"1\" class=\"dataframe\">\n",
       "  <thead>\n",
       "    <tr style=\"text-align: right;\">\n",
       "      <th></th>\n",
       "      <th>count</th>\n",
       "      <th>mean</th>\n",
       "      <th>std</th>\n",
       "    </tr>\n",
       "    <tr>\n",
       "      <th>user</th>\n",
       "      <th></th>\n",
       "      <th></th>\n",
       "      <th></th>\n",
       "    </tr>\n",
       "  </thead>\n",
       "  <tbody>\n",
       "    <tr>\n",
       "      <td>1</td>\n",
       "      <td>22</td>\n",
       "      <td>5.000000</td>\n",
       "      <td>0.000000</td>\n",
       "    </tr>\n",
       "    <tr>\n",
       "      <td>2</td>\n",
       "      <td>20</td>\n",
       "      <td>3.200000</td>\n",
       "      <td>0.894427</td>\n",
       "    </tr>\n",
       "    <tr>\n",
       "      <td>3</td>\n",
       "      <td>33</td>\n",
       "      <td>3.939394</td>\n",
       "      <td>0.747470</td>\n",
       "    </tr>\n",
       "    <tr>\n",
       "      <td>4</td>\n",
       "      <td>38</td>\n",
       "      <td>4.026316</td>\n",
       "      <td>1.150484</td>\n",
       "    </tr>\n",
       "    <tr>\n",
       "      <td>5</td>\n",
       "      <td>87</td>\n",
       "      <td>3.850575</td>\n",
       "      <td>1.062344</td>\n",
       "    </tr>\n",
       "    <tr>\n",
       "      <td>6</td>\n",
       "      <td>42</td>\n",
       "      <td>3.928571</td>\n",
       "      <td>1.112958</td>\n",
       "    </tr>\n",
       "    <tr>\n",
       "      <td>7</td>\n",
       "      <td>109</td>\n",
       "      <td>3.926606</td>\n",
       "      <td>0.954584</td>\n",
       "    </tr>\n",
       "    <tr>\n",
       "      <td>8</td>\n",
       "      <td>800</td>\n",
       "      <td>3.398125</td>\n",
       "      <td>0.768552</td>\n",
       "    </tr>\n",
       "    <tr>\n",
       "      <td>9</td>\n",
       "      <td>24</td>\n",
       "      <td>4.000000</td>\n",
       "      <td>1.276885</td>\n",
       "    </tr>\n",
       "    <tr>\n",
       "      <td>10</td>\n",
       "      <td>123</td>\n",
       "      <td>3.813008</td>\n",
       "      <td>0.908517</td>\n",
       "    </tr>\n",
       "  </tbody>\n",
       "</table>\n",
       "</div>"
      ],
      "text/plain": [
       "      count      mean       std\n",
       "user                           \n",
       "1        22  5.000000  0.000000\n",
       "2        20  3.200000  0.894427\n",
       "3        33  3.939394  0.747470\n",
       "4        38  4.026316  1.150484\n",
       "5        87  3.850575  1.062344\n",
       "6        42  3.928571  1.112958\n",
       "7       109  3.926606  0.954584\n",
       "8       800  3.398125  0.768552\n",
       "9        24  4.000000  1.276885\n",
       "10      123  3.813008  0.908517"
      ]
     },
     "execution_count": 13,
     "metadata": {},
     "output_type": "execute_result"
    }
   ],
   "source": [
    "ratings_user_summary = df.groupby('user')['rating'].agg(['count', 'mean', 'std'])\n",
    "ratings_user_summary.head(10)"
   ]
  }
 ],
 "metadata": {
  "kernelspec": {
   "display_name": "Python 3",
   "language": "python",
   "name": "python3"
  },
  "language_info": {
   "codemirror_mode": {
    "name": "ipython",
    "version": 3
   },
   "file_extension": ".py",
   "mimetype": "text/x-python",
   "name": "python",
   "nbconvert_exporter": "python",
   "pygments_lexer": "ipython3",
   "version": "3.7.4"
  }
 },
 "nbformat": 4,
 "nbformat_minor": 2
}
