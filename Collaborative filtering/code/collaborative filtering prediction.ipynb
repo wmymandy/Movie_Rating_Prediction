{
 "cells": [
  {
   "cell_type": "code",
   "execution_count": 1,
   "metadata": {},
   "outputs": [],
   "source": [
    "import numpy as np\n",
    "import pandas as pd\n",
    "import os\n",
    "from scipy import sparse\n",
    "from scipy.sparse import csr_matrix\n",
    "import random\n",
    "from datetime import datetime"
   ]
  },
  {
   "cell_type": "code",
   "execution_count": 2,
   "metadata": {},
   "outputs": [],
   "source": [
    "data = pd.read_csv('data10m.csv')"
   ]
  },
  {
   "cell_type": "code",
   "execution_count": 3,
   "metadata": {},
   "outputs": [
    {
     "name": "stdout",
     "output_type": "stream",
     "text": [
      "Input Data Shape:  (10000054, 4)\n"
     ]
    }
   ],
   "source": [
    "print(\"Input Data Shape: \",\n",
    "      data.shape)"
   ]
  },
  {
   "cell_type": "code",
   "execution_count": 4,
   "metadata": {},
   "outputs": [
    {
     "name": "stdout",
     "output_type": "stream",
     "text": [
      "First Five Line: \n",
      "   movie  user  rating                           date\n",
      "0    122     1     5.0  1970-01-01 00:00:00.838985046\n",
      "1    185     1     5.0  1970-01-01 00:00:00.838983525\n",
      "2    231     1     5.0  1970-01-01 00:00:00.838983392\n",
      "3    292     1     5.0  1970-01-01 00:00:00.838983421\n",
      "4    316     1     5.0  1970-01-01 00:00:00.838983392\n"
     ]
    }
   ],
   "source": [
    "print(\"First Five Line: \")\n",
    "print(data.head(5))"
   ]
  },
  {
   "cell_type": "code",
   "execution_count": 5,
   "metadata": {},
   "outputs": [
    {
     "name": "stdout",
     "output_type": "stream",
     "text": [
      "Train set:  8000043\n"
     ]
    }
   ],
   "source": [
    "#Create Training Set:\n",
    "train_df = data.iloc[:int(data.shape[0]*0.80)]\n",
    "print(\"Train set: \", train_df.shape[0])"
   ]
  },
  {
   "cell_type": "code",
   "execution_count": 6,
   "metadata": {},
   "outputs": [
    {
     "name": "stdout",
     "output_type": "stream",
     "text": [
      "Test set:  2000011\n"
     ]
    }
   ],
   "source": [
    "test_df = data.iloc[int(data.shape[0]*0.80) : ]\n",
    "print(\"Test set: \", test_df.shape[0])"
   ]
  },
  {
   "cell_type": "code",
   "execution_count": 7,
   "metadata": {},
   "outputs": [
    {
     "name": "stdout",
     "output_type": "stream",
     "text": [
      "Total No of Users   : 56101\n",
      "Total No of movies  : 10633\n"
     ]
    }
   ],
   "source": [
    "print(\"Total No of Users   :\", len(np.unique(train_df.user)))\n",
    "print(\"Total No of movies  :\", len(np.unique(train_df.movie)))"
   ]
  },
  {
   "cell_type": "code",
   "execution_count": 8,
   "metadata": {},
   "outputs": [],
   "source": [
    "from surprise import Reader, Dataset"
   ]
  },
  {
   "cell_type": "code",
   "execution_count": 9,
   "metadata": {},
   "outputs": [],
   "source": [
    "from surprise.model_selection import cross_validate\n",
    "from surprise import accuracy"
   ]
  },
  {
   "cell_type": "code",
   "execution_count": 10,
   "metadata": {},
   "outputs": [],
   "source": [
    "reader = Reader(rating_scale=(1,5))\n",
    "train_data = Dataset.load_from_df(train_df[['user', 'movie', 'rating']], reader)\n",
    "trainset = train_data.build_full_trainset()"
   ]
  },
  {
   "cell_type": "code",
   "execution_count": 11,
   "metadata": {},
   "outputs": [
    {
     "data": {
      "text/plain": [
       "[(57375, 7361, 4.0), (57375, 7379, 3.0), (57375, 7386, 4.5)]"
      ]
     },
     "execution_count": 11,
     "metadata": {},
     "output_type": "execute_result"
    }
   ],
   "source": [
    "testset = list(zip(test_df.user.values, test_df.movie.values, test_df.rating.values))\n",
    "testset[:3]"
   ]
  },
  {
   "cell_type": "code",
   "execution_count": 12,
   "metadata": {},
   "outputs": [],
   "source": [
    "RMSE = []\n",
    "MAE = []\n",
    "def evaluate_train_test(algo, train, test):\n",
    "    print('Training the model..')\n",
    "    start =datetime.now()    \n",
    "    algo.fit(train)\n",
    "    print('Done. Time taken : {}\\n'.format(datetime.now()-start))\n",
    "#evaluation this model took such a long time so we just skip this step\n",
    "#    print('Evaluating the model with TRAIN data...')\n",
    "#    start =datetime.now()\n",
    "#    prediction_train = algo.test(train.build_testset())\n",
    "#    rmse_train = accuracy.rmse(prediction_train)\n",
    "#    mae_train = accuracy.mae(prediction_train)\n",
    "#    print('Done. Time taken : {}\\n'.format(datetime.now()-start))\n",
    "    print('\\nEvaluating for test data...')\n",
    "    start =datetime.now()\n",
    "    prediction = algo.test(test)\n",
    "    rmse_test = accuracy.rmse(prediction)\n",
    "    mae_test = accuracy.mae(prediction)\n",
    "    RMSE.append(rmse_test)\n",
    "    MAE.append(mae_test)\n",
    "    print('Done. Time taken : {}\\n'.format(datetime.now()-start))"
   ]
  },
  {
   "cell_type": "code",
   "execution_count": 13,
   "metadata": {},
   "outputs": [],
   "source": [
    "algo = []"
   ]
  },
  {
   "cell_type": "code",
   "execution_count": 14,
   "metadata": {},
   "outputs": [],
   "source": [
    "#Baseline Model ( with User and Item biases)\n",
    "from surprise import BaselineOnly\n",
    "bsl_options = {'method': 'sgd',\n",
    "               'learning_rate': .001\n",
    "               }\n",
    "bsl = BaselineOnly(bsl_options=bsl_options)\n",
    "algo.append([bsl, \"Baseline Model with User and Item Biases\"])"
   ]
  },
  {
   "cell_type": "code",
   "execution_count": 15,
   "metadata": {},
   "outputs": [],
   "source": [
    "#KNN with User User similarities\n",
    "from surprise import KNNBaseline\n",
    "sim_options_u = {'user_based' : True,\n",
    "               'name': 'pearson_baseline',\n",
    "               'shrinkage': 100,\n",
    "               'min_support': 2\n",
    "              } \n",
    "bsl_options = {'method': 'sgd'} \n",
    "knn_bsl_u = KNNBaseline(k=20, sim_options = sim_options_u, bsl_options = bsl_options)\n",
    "algo.append([knn_bsl_u, \"KNN Basline with User User Similarity\"])"
   ]
  },
  {
   "cell_type": "code",
   "execution_count": 16,
   "metadata": {},
   "outputs": [],
   "source": [
    "#KNN with Item Item similarities\n",
    "sim_options_i = {'user_based' : False,\n",
    "               'name': 'pearson_baseline',\n",
    "               'shrinkage': 100,\n",
    "               'min_support': 2\n",
    "              } \n",
    "bsl_options = {'method': 'sgd'}\n",
    "knn_bsl_m = KNNBaseline(k=20, sim_options = sim_options_i, bsl_options = bsl_options)\n",
    "algo.append([knn_bsl_m, \"KNN Basline with Item Item Similarity\"])"
   ]
  },
  {
   "cell_type": "code",
   "execution_count": 17,
   "metadata": {},
   "outputs": [],
   "source": [
    "#SVD - MF algorithm with user item interactions\n",
    "from surprise import SVD\n",
    "svd = SVD(n_factors=100, biased=True, random_state=15, verbose=True)\n",
    "algo.append([svd, \"SVD model\"])"
   ]
  },
  {
   "cell_type": "code",
   "execution_count": 18,
   "metadata": {},
   "outputs": [
    {
     "data": {
      "text/plain": [
       "[[<surprise.prediction_algorithms.baseline_only.BaselineOnly at 0x1a5812ae808>,\n",
       "  'Baseline Model with User and Item Biases'],\n",
       " [<surprise.prediction_algorithms.knns.KNNBaseline at 0x1a5812b3948>,\n",
       "  'KNN Basline with User User Similarity'],\n",
       " [<surprise.prediction_algorithms.knns.KNNBaseline at 0x1a5812b6248>,\n",
       "  'KNN Basline with Item Item Similarity'],\n",
       " [<surprise.prediction_algorithms.matrix_factorization.SVD at 0x1a5812b66c8>,\n",
       "  'SVD model']]"
      ]
     },
     "execution_count": 18,
     "metadata": {},
     "output_type": "execute_result"
    }
   ],
   "source": [
    "algo"
   ]
  },
  {
   "cell_type": "code",
   "execution_count": 20,
   "metadata": {},
   "outputs": [
    {
     "name": "stdout",
     "output_type": "stream",
     "text": [
      "==========================================================\n",
      "Model: Baseline Model with User and Item Biases\n",
      "Training the model..\n",
      "Estimating biases using sgd...\n",
      "Done. Time taken : 0:00:06.469934\n",
      "\n",
      "\n",
      "Evaluating for test data...\n",
      "RMSE: 0.9955\n",
      "MAE:  0.7868\n",
      "Done. Time taken : 0:00:09.358666\n",
      "\n",
      "==========================================================\n",
      "Model: KNN Basline with User User Similarity\n",
      "Training the model..\n",
      "Estimating biases using sgd...\n",
      "Computing the pearson_baseline similarity matrix...\n",
      "Done computing similarity matrix.\n",
      "Done. Time taken : 0:03:39.333393\n",
      "\n",
      "\n",
      "Evaluating for test data...\n",
      "RMSE: 0.9903\n",
      "MAE:  0.7838\n",
      "Done. Time taken : 0:00:07.261428\n",
      "\n",
      "==========================================================\n",
      "Model: KNN Basline with Item Item Similarity\n",
      "Training the model..\n",
      "Estimating biases using sgd...\n",
      "Computing the pearson_baseline similarity matrix...\n",
      "Done computing similarity matrix.\n",
      "Done. Time taken : 0:01:43.733350\n",
      "\n",
      "\n",
      "Evaluating for test data...\n",
      "RMSE: 0.9903\n",
      "MAE:  0.7838\n",
      "Done. Time taken : 0:00:07.576685\n",
      "\n",
      "==========================================================\n",
      "Model: SVD model\n",
      "Training the model..\n",
      "Processing epoch 0\n",
      "Processing epoch 1\n",
      "Processing epoch 2\n",
      "Processing epoch 3\n",
      "Processing epoch 4\n",
      "Processing epoch 5\n",
      "Processing epoch 6\n",
      "Processing epoch 7\n",
      "Processing epoch 8\n",
      "Processing epoch 9\n",
      "Processing epoch 10\n",
      "Processing epoch 11\n",
      "Processing epoch 12\n",
      "Processing epoch 13\n",
      "Processing epoch 14\n",
      "Processing epoch 15\n",
      "Processing epoch 16\n",
      "Processing epoch 17\n",
      "Processing epoch 18\n",
      "Processing epoch 19\n",
      "Done. Time taken : 0:01:46.806856\n",
      "\n",
      "\n",
      "Evaluating for test data...\n",
      "RMSE: 0.9890\n",
      "MAE:  0.7873\n",
      "Done. Time taken : 0:00:06.554262\n",
      "\n"
     ]
    }
   ],
   "source": [
    "for a in algo:\n",
    "    print(\"==========================================================\")\n",
    "    print(\"Model: \" + a[1])\n",
    "    evaluate_train_test(a[0], trainset, testset)"
   ]
  },
  {
   "cell_type": "code",
   "execution_count": 21,
   "metadata": {},
   "outputs": [],
   "source": [
    "#make predction for each model\n",
    "test = train_df.sample(10)\n",
    "reader = Reader(rating_scale=(1,5))\n",
    "test_data = Dataset.load_from_df(test[['user', 'movie', 'rating']], reader)\n",
    "train = test_data.build_full_trainset()"
   ]
  },
  {
   "cell_type": "code",
   "execution_count": 22,
   "metadata": {},
   "outputs": [],
   "source": [
    "testset = train.build_testset()\n",
    "pred = test[['user', 'movie', 'rating']]\n",
    "l = [bsl, knn_bsl_u, knn_bsl_m, svd]\n",
    "for i in range(len(l)):\n",
    "    predictions = l[i].test(testset)\n",
    "    model_pred = pd.DataFrame([[i.uid, i.iid, i.est] for i in predictions], columns=['user', 'movie', str(i)])\n",
    "    pred = pd.merge(pred, model_pred, how='left', left_on=['user', 'movie'], right_on=['user', 'movie'])\n",
    "pred.columns = pred.columns[:3].tolist() + ['bsl', 'knn_bsl_u', 'knn_bsl_i', 'svd']"
   ]
  },
  {
   "cell_type": "code",
   "execution_count": 23,
   "metadata": {},
   "outputs": [
    {
     "data": {
      "text/html": [
       "<div>\n",
       "<style scoped>\n",
       "    .dataframe tbody tr th:only-of-type {\n",
       "        vertical-align: middle;\n",
       "    }\n",
       "\n",
       "    .dataframe tbody tr th {\n",
       "        vertical-align: top;\n",
       "    }\n",
       "\n",
       "    .dataframe thead th {\n",
       "        text-align: right;\n",
       "    }\n",
       "</style>\n",
       "<table border=\"1\" class=\"dataframe\">\n",
       "  <thead>\n",
       "    <tr style=\"text-align: right;\">\n",
       "      <th></th>\n",
       "      <th>user</th>\n",
       "      <th>movie</th>\n",
       "      <th>rating</th>\n",
       "      <th>bsl</th>\n",
       "      <th>knn_bsl_u</th>\n",
       "      <th>knn_bsl_i</th>\n",
       "      <th>svd</th>\n",
       "    </tr>\n",
       "  </thead>\n",
       "  <tbody>\n",
       "    <tr>\n",
       "      <td>0</td>\n",
       "      <td>1883</td>\n",
       "      <td>2301</td>\n",
       "      <td>2</td>\n",
       "      <td>3.303331</td>\n",
       "      <td>2.417889</td>\n",
       "      <td>2.684213</td>\n",
       "      <td>2.265347</td>\n",
       "    </tr>\n",
       "    <tr>\n",
       "      <td>1</td>\n",
       "      <td>1567</td>\n",
       "      <td>1299</td>\n",
       "      <td>4</td>\n",
       "      <td>4.193610</td>\n",
       "      <td>4.018281</td>\n",
       "      <td>4.084649</td>\n",
       "      <td>3.976425</td>\n",
       "    </tr>\n",
       "    <tr>\n",
       "      <td>2</td>\n",
       "      <td>592</td>\n",
       "      <td>3258</td>\n",
       "      <td>3</td>\n",
       "      <td>3.179302</td>\n",
       "      <td>2.945151</td>\n",
       "      <td>3.122728</td>\n",
       "      <td>3.344425</td>\n",
       "    </tr>\n",
       "    <tr>\n",
       "      <td>3</td>\n",
       "      <td>4009</td>\n",
       "      <td>3174</td>\n",
       "      <td>4</td>\n",
       "      <td>3.034792</td>\n",
       "      <td>3.678274</td>\n",
       "      <td>3.454418</td>\n",
       "      <td>3.405793</td>\n",
       "    </tr>\n",
       "    <tr>\n",
       "      <td>4</td>\n",
       "      <td>690</td>\n",
       "      <td>954</td>\n",
       "      <td>4</td>\n",
       "      <td>4.837191</td>\n",
       "      <td>4.212733</td>\n",
       "      <td>4.235366</td>\n",
       "      <td>4.303308</td>\n",
       "    </tr>\n",
       "    <tr>\n",
       "      <td>5</td>\n",
       "      <td>5</td>\n",
       "      <td>41</td>\n",
       "      <td>4</td>\n",
       "      <td>3.470849</td>\n",
       "      <td>3.619949</td>\n",
       "      <td>4.000806</td>\n",
       "      <td>3.822184</td>\n",
       "    </tr>\n",
       "    <tr>\n",
       "      <td>6</td>\n",
       "      <td>615</td>\n",
       "      <td>2571</td>\n",
       "      <td>4</td>\n",
       "      <td>4.502376</td>\n",
       "      <td>4.274269</td>\n",
       "      <td>4.462415</td>\n",
       "      <td>4.625705</td>\n",
       "    </tr>\n",
       "    <tr>\n",
       "      <td>7</td>\n",
       "      <td>4152</td>\n",
       "      <td>3363</td>\n",
       "      <td>5</td>\n",
       "      <td>3.998745</td>\n",
       "      <td>4.608908</td>\n",
       "      <td>4.527895</td>\n",
       "      <td>4.568134</td>\n",
       "    </tr>\n",
       "    <tr>\n",
       "      <td>8</td>\n",
       "      <td>2330</td>\n",
       "      <td>2160</td>\n",
       "      <td>1</td>\n",
       "      <td>3.170795</td>\n",
       "      <td>1.730769</td>\n",
       "      <td>1.799452</td>\n",
       "      <td>1.597867</td>\n",
       "    </tr>\n",
       "    <tr>\n",
       "      <td>9</td>\n",
       "      <td>2432</td>\n",
       "      <td>1721</td>\n",
       "      <td>5</td>\n",
       "      <td>3.631089</td>\n",
       "      <td>4.494586</td>\n",
       "      <td>4.313615</td>\n",
       "      <td>4.416390</td>\n",
       "    </tr>\n",
       "  </tbody>\n",
       "</table>\n",
       "</div>"
      ],
      "text/plain": [
       "   user  movie  rating       bsl  knn_bsl_u  knn_bsl_i       svd\n",
       "0  1883   2301       2  3.303331   2.417889   2.684213  2.265347\n",
       "1  1567   1299       4  4.193610   4.018281   4.084649  3.976425\n",
       "2   592   3258       3  3.179302   2.945151   3.122728  3.344425\n",
       "3  4009   3174       4  3.034792   3.678274   3.454418  3.405793\n",
       "4   690    954       4  4.837191   4.212733   4.235366  4.303308\n",
       "5     5     41       4  3.470849   3.619949   4.000806  3.822184\n",
       "6   615   2571       4  4.502376   4.274269   4.462415  4.625705\n",
       "7  4152   3363       5  3.998745   4.608908   4.527895  4.568134\n",
       "8  2330   2160       1  3.170795   1.730769   1.799452  1.597867\n",
       "9  2432   1721       5  3.631089   4.494586   4.313615  4.416390"
      ]
     },
     "execution_count": 23,
     "metadata": {},
     "output_type": "execute_result"
    }
   ],
   "source": [
    "pred"
   ]
  },
  {
   "cell_type": "code",
   "execution_count": 24,
   "metadata": {},
   "outputs": [],
   "source": [
    "models = ['BaseLineOnly', 'User-User CF', 'Item-Item CF', 'SVD']"
   ]
  },
  {
   "cell_type": "code",
   "execution_count": 25,
   "metadata": {},
   "outputs": [],
   "source": [
    "data = {'Model': models, 'RMSE': RMSE, 'MAE': MAE}\n",
    "df= pd.DataFrame(data)"
   ]
  },
  {
   "cell_type": "code",
   "execution_count": 26,
   "metadata": {},
   "outputs": [
    {
     "data": {
      "text/html": [
       "<div>\n",
       "<style scoped>\n",
       "    .dataframe tbody tr th:only-of-type {\n",
       "        vertical-align: middle;\n",
       "    }\n",
       "\n",
       "    .dataframe tbody tr th {\n",
       "        vertical-align: top;\n",
       "    }\n",
       "\n",
       "    .dataframe thead th {\n",
       "        text-align: right;\n",
       "    }\n",
       "</style>\n",
       "<table border=\"1\" class=\"dataframe\">\n",
       "  <thead>\n",
       "    <tr style=\"text-align: right;\">\n",
       "      <th></th>\n",
       "      <th>Model</th>\n",
       "      <th>RMSE</th>\n",
       "      <th>MAE</th>\n",
       "    </tr>\n",
       "  </thead>\n",
       "  <tbody>\n",
       "    <tr>\n",
       "      <td>0</td>\n",
       "      <td>BaseLineOnly</td>\n",
       "      <td>0.995483</td>\n",
       "      <td>0.786751</td>\n",
       "    </tr>\n",
       "    <tr>\n",
       "      <td>1</td>\n",
       "      <td>User-User CF</td>\n",
       "      <td>0.990302</td>\n",
       "      <td>0.783754</td>\n",
       "    </tr>\n",
       "    <tr>\n",
       "      <td>2</td>\n",
       "      <td>Item-Item CF</td>\n",
       "      <td>0.990320</td>\n",
       "      <td>0.783772</td>\n",
       "    </tr>\n",
       "    <tr>\n",
       "      <td>3</td>\n",
       "      <td>SVD</td>\n",
       "      <td>0.989015</td>\n",
       "      <td>0.787322</td>\n",
       "    </tr>\n",
       "  </tbody>\n",
       "</table>\n",
       "</div>"
      ],
      "text/plain": [
       "          Model      RMSE       MAE\n",
       "0  BaseLineOnly  0.995483  0.786751\n",
       "1  User-User CF  0.990302  0.783754\n",
       "2  Item-Item CF  0.990320  0.783772\n",
       "3           SVD  0.989015  0.787322"
      ]
     },
     "execution_count": 26,
     "metadata": {},
     "output_type": "execute_result"
    }
   ],
   "source": [
    "df"
   ]
  }
 ],
 "metadata": {
  "kernelspec": {
   "display_name": "Python 3",
   "language": "python",
   "name": "python3"
  },
  "language_info": {
   "codemirror_mode": {
    "name": "ipython",
    "version": 3
   },
   "file_extension": ".py",
   "mimetype": "text/x-python",
   "name": "python",
   "nbconvert_exporter": "python",
   "pygments_lexer": "ipython3",
   "version": "3.7.4"
  }
 },
 "nbformat": 4,
 "nbformat_minor": 2
}
