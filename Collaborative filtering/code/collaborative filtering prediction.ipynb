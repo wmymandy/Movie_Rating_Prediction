{
 "cells": [
  {
   "cell_type": "code",
   "execution_count": 1,
   "metadata": {},
   "outputs": [],
   "source": [
    "import numpy as np\n",
    "import pandas as pd\n",
    "import os\n",
    "from scipy import sparse\n",
    "from scipy.sparse import csr_matrix\n",
    "import random\n",
    "from datetime import datetime"
   ]
  },
  {
   "cell_type": "code",
   "execution_count": 2,
   "metadata": {},
   "outputs": [
    {
     "name": "stdout",
     "output_type": "stream",
     "text": [
      "Rows: 1000209 ; Columns: 4 \n",
      "\n",
      "   movie  user  rating       date\n",
      "0   1193     1       5  978300760\n",
      "1    661     1       3  978302109\n",
      "2    914     1       3  978301968\n",
      "3   3408     1       4  978300275\n",
      "4   2355     1       5  978824291\n"
     ]
    }
   ],
   "source": [
    "df = pd.read_csv('./ratings.dat', names=['user', 'movie', 'rating', 'date'], delimiter='::', engine= 'python')\n",
    "print('Rows:', df.shape[0], '; Columns:', df.shape[1], '\\n')\n",
    "from datetime import datetime\n",
    "#df.date = pd.to_datetime(df.date)\n",
    "df = df[['movie', 'user', 'rating', 'date']]\n",
    "print(df.head(5))"
   ]
  },
  {
   "cell_type": "code",
   "execution_count": 3,
   "metadata": {},
   "outputs": [],
   "source": [
    "df.to_csv(\"data1m.csv\", index = False)"
   ]
  },
  {
   "cell_type": "code",
   "execution_count": 4,
   "metadata": {},
   "outputs": [],
   "source": [
    "data = pd.read_csv('data1m.csv')"
   ]
  },
  {
   "cell_type": "code",
   "execution_count": 5,
   "metadata": {},
   "outputs": [
    {
     "name": "stdout",
     "output_type": "stream",
     "text": [
      "Input Data Shape:  (1000209, 4)\n"
     ]
    }
   ],
   "source": [
    "print(\"Input Data Shape: \",\n",
    "      data.shape)"
   ]
  },
  {
   "cell_type": "code",
   "execution_count": 6,
   "metadata": {},
   "outputs": [
    {
     "name": "stdout",
     "output_type": "stream",
     "text": [
      "First Five Line: \n",
      "   movie  user  rating       date\n",
      "0   1193     1       5  978300760\n",
      "1    661     1       3  978302109\n",
      "2    914     1       3  978301968\n",
      "3   3408     1       4  978300275\n",
      "4   2355     1       5  978824291\n"
     ]
    }
   ],
   "source": [
    "print(\"First Five Line: \")\n",
    "print(data.head(5))"
   ]
  },
  {
   "cell_type": "code",
   "execution_count": 7,
   "metadata": {},
   "outputs": [
    {
     "name": "stdout",
     "output_type": "stream",
     "text": [
      "Train set:  800167\n"
     ]
    }
   ],
   "source": [
    "#Create Training Set:\n",
    "train_df = data.iloc[:int(data.shape[0]*0.80)]\n",
    "print(\"Train set: \", train_df.shape[0])"
   ]
  },
  {
   "cell_type": "code",
   "execution_count": 8,
   "metadata": {},
   "outputs": [
    {
     "name": "stdout",
     "output_type": "stream",
     "text": [
      "Test set:  200042\n"
     ]
    }
   ],
   "source": [
    "test_df = data.iloc[int(data.shape[0]*0.80) : ]\n",
    "print(\"Test set: \", test_df.shape[0])"
   ]
  },
  {
   "cell_type": "code",
   "execution_count": 9,
   "metadata": {},
   "outputs": [
    {
     "name": "stdout",
     "output_type": "stream",
     "text": [
      "Total No of Users   : 4795\n",
      "Total No of movies  : 3685\n"
     ]
    }
   ],
   "source": [
    "print(\"Total No of Users   :\", len(np.unique(train_df.user)))\n",
    "print(\"Total No of movies  :\", len(np.unique(train_df.movie)))"
   ]
  },
  {
   "cell_type": "code",
   "execution_count": 10,
   "metadata": {},
   "outputs": [],
   "source": [
    "from surprise import Reader, Dataset"
   ]
  },
  {
   "cell_type": "code",
   "execution_count": 11,
   "metadata": {},
   "outputs": [],
   "source": [
    "from surprise.model_selection import cross_validate\n",
    "from surprise import accuracy"
   ]
  },
  {
   "cell_type": "code",
   "execution_count": 12,
   "metadata": {},
   "outputs": [],
   "source": [
    "reader = Reader(rating_scale=(1,5))\n",
    "train_data = Dataset.load_from_df(train_df[['user', 'movie', 'rating']], reader)\n",
    "trainset = train_data.build_full_trainset()"
   ]
  },
  {
   "cell_type": "code",
   "execution_count": 13,
   "metadata": {},
   "outputs": [
    {
     "data": {
      "text/plain": [
       "[(4795, 3262, 3), (4795, 2624, 4), (4795, 2628, 3)]"
      ]
     },
     "execution_count": 13,
     "metadata": {},
     "output_type": "execute_result"
    }
   ],
   "source": [
    "testset = list(zip(test_df.user.values, test_df.movie.values, test_df.rating.values))\n",
    "testset[:3]"
   ]
  },
  {
   "cell_type": "code",
   "execution_count": 14,
   "metadata": {},
   "outputs": [],
   "source": [
    "def evaluate_train_test(algo, train, test):\n",
    "    print('Training the model..')\n",
    "    start =datetime.now()    \n",
    "    algo.fit(train)\n",
    "    print('Done. Time taken : {}\\n'.format(datetime.now()-start))\n",
    "    print('Evaluating the model with TRAIN data...')\n",
    "    start =datetime.now()\n",
    "    prediction_train = algo.test(train.build_testset())\n",
    "    rmse_train = accuracy.rmse(prediction_train)\n",
    "    mae_train = accuracy.mae(prediction_train)\n",
    "    print('Done. Time taken : {}\\n'.format(datetime.now()-start))\n",
    "    print('\\nEvaluating for test data...')\n",
    "    start =datetime.now()\n",
    "    prediction = algo.test(test)\n",
    "    rmse_test = accuracy.rmse(prediction)\n",
    "    mae_test = accuracy.mae(prediction)\n",
    "    print('Done. Time taken : {}\\n'.format(datetime.now()-start))"
   ]
  },
  {
   "cell_type": "code",
   "execution_count": 31,
   "metadata": {},
   "outputs": [],
   "source": [
    "algo = []"
   ]
  },
  {
   "cell_type": "code",
   "execution_count": 32,
   "metadata": {},
   "outputs": [],
   "source": [
    "#Baseline Model ( with User and Item biases)\n",
    "from surprise import BaselineOnly\n",
    "bsl_options = {'method': 'sgd',\n",
    "               'learning_rate': .001\n",
    "               }\n",
    "bsl = BaselineOnly(bsl_options=bsl_options)\n",
    "algo.append([bsl, \"Baseline Model with User and Item Biases\"])"
   ]
  },
  {
   "cell_type": "code",
   "execution_count": 33,
   "metadata": {},
   "outputs": [],
   "source": [
    "#KNN with User User similarities\n",
    "from surprise import KNNBaseline\n",
    "sim_options_u = {'user_based' : True,\n",
    "               'name': 'pearson_baseline',\n",
    "               'shrinkage': 100,\n",
    "               'min_support': 2\n",
    "              } \n",
    "bsl_options = {'method': 'sgd'} \n",
    "knn_bsl_u = KNNBaseline(k=20, sim_options = sim_options_u, bsl_options = bsl_options)\n",
    "algo.append([knn_bsl_u, \"KNN Basline with User User Similarity\"])"
   ]
  },
  {
   "cell_type": "code",
   "execution_count": 34,
   "metadata": {},
   "outputs": [],
   "source": [
    "#KNN with Item Item similarities\n",
    "sim_options_i = {'user_based' : False,\n",
    "               'name': 'pearson_baseline',\n",
    "               'shrinkage': 100,\n",
    "               'min_support': 2\n",
    "              } \n",
    "bsl_options = {'method': 'sgd'}\n",
    "knn_bsl_m = KNNBaseline(k=20, sim_options = sim_options_i, bsl_options = bsl_options)\n",
    "algo.append([knn_bsl_m, \"KNN Basline with Item Item Similarity\"])"
   ]
  },
  {
   "cell_type": "code",
   "execution_count": 35,
   "metadata": {},
   "outputs": [],
   "source": [
    "#SVD - MF algorithm withuser item interactions\n",
    "from surprise import SVD\n",
    "svd = SVD(n_factors=150, biased=True, random_state=15, verbose=True)\n",
    "algo.append([svd, \"SVD model\"])"
   ]
  },
  {
   "cell_type": "code",
   "execution_count": 36,
   "metadata": {},
   "outputs": [
    {
     "data": {
      "text/plain": [
       "[[<surprise.prediction_algorithms.baseline_only.BaselineOnly at 0x1ad96716fc8>,\n",
       "  'Baseline Model with User and Item Biases'],\n",
       " [<surprise.prediction_algorithms.knns.KNNBaseline at 0x1ad96713508>,\n",
       "  'KNN Basline with User User Similarity'],\n",
       " [<surprise.prediction_algorithms.knns.KNNBaseline at 0x1ad96713c48>,\n",
       "  'KNN Basline with Item Item Similarity'],\n",
       " [<surprise.prediction_algorithms.matrix_factorization.SVD at 0x1ad96713208>,\n",
       "  'SVD model']]"
      ]
     },
     "execution_count": 36,
     "metadata": {},
     "output_type": "execute_result"
    }
   ],
   "source": [
    "algo"
   ]
  },
  {
   "cell_type": "code",
   "execution_count": 37,
   "metadata": {},
   "outputs": [
    {
     "name": "stdout",
     "output_type": "stream",
     "text": [
      "==========================================================\n",
      "Model: Baseline Model with User and Item Biases\n",
      "Training the model..\n",
      "Estimating biases using sgd...\n",
      "Done. Time taken : 0:00:01.499896\n",
      "\n",
      "Evaluating the model with TRAIN data...\n",
      "RMSE: 0.9013\n",
      "MAE:  0.7136\n",
      "Done. Time taken : 0:00:05.506837\n",
      "\n",
      "\n",
      "Evaluating for test data...\n",
      "RMSE: 0.9506\n",
      "MAE:  0.7218\n",
      "Done. Time taken : 0:00:00\n",
      "\n",
      "==========================================================\n",
      "Model: KNN Basline with User User Similarity\n",
      "Training the model..\n",
      "Estimating biases using sgd...\n",
      "Computing the pearson_baseline similarity matrix...\n",
      "Done computing similarity matrix.\n",
      "Done. Time taken : 0:01:17.256624\n",
      "\n",
      "Evaluating the model with TRAIN data...\n",
      "RMSE: 0.4849\n",
      "MAE:  0.3739\n",
      "Done. Time taken : 0:06:49.202330\n",
      "\n",
      "\n",
      "Evaluating for test data...\n",
      "RMSE: 0.4143\n",
      "MAE:  0.3351\n",
      "Done. Time taken : 0:00:00.003990\n",
      "\n",
      "==========================================================\n",
      "Model: KNN Basline with Item Item Similarity\n",
      "Training the model..\n",
      "Estimating biases using sgd...\n",
      "Computing the pearson_baseline similarity matrix...\n",
      "Done computing similarity matrix.\n",
      "Done. Time taken : 0:00:48.424549\n",
      "\n",
      "Evaluating the model with TRAIN data...\n",
      "RMSE: 0.5065\n",
      "MAE:  0.3940\n",
      "Done. Time taken : 0:03:16.861074\n",
      "\n",
      "\n",
      "Evaluating for test data...\n",
      "RMSE: 0.3815\n",
      "MAE:  0.3346\n",
      "Done. Time taken : 0:00:00.002993\n",
      "\n",
      "==========================================================\n",
      "Model: SVD model\n",
      "Training the model..\n",
      "Processing epoch 0\n",
      "Processing epoch 1\n",
      "Processing epoch 2\n",
      "Processing epoch 3\n",
      "Processing epoch 4\n",
      "Processing epoch 5\n",
      "Processing epoch 6\n",
      "Processing epoch 7\n",
      "Processing epoch 8\n",
      "Processing epoch 9\n",
      "Processing epoch 10\n",
      "Processing epoch 11\n",
      "Processing epoch 12\n",
      "Processing epoch 13\n",
      "Processing epoch 14\n",
      "Processing epoch 15\n",
      "Processing epoch 16\n",
      "Processing epoch 17\n",
      "Processing epoch 18\n",
      "Processing epoch 19\n",
      "Done. Time taken : 0:00:58.260671\n",
      "\n",
      "Evaluating the model with TRAIN data...\n",
      "RMSE: 0.6177\n",
      "MAE:  0.4881\n",
      "Done. Time taken : 0:00:06.892656\n",
      "\n",
      "\n",
      "Evaluating for test data...\n",
      "RMSE: 0.7195\n",
      "MAE:  0.5286\n",
      "Done. Time taken : 0:00:00.001001\n",
      "\n"
     ]
    }
   ],
   "source": [
    "for a in algo:\n",
    "    print(\"==========================================================\")\n",
    "    print(\"Model: \" + a[1])\n",
    "    evaluate_train_test(a[0], trainset, testset)"
   ]
  },
  {
   "cell_type": "code",
   "execution_count": 38,
   "metadata": {},
   "outputs": [],
   "source": [
    "#make predction for each model\n",
    "test = train_df.sample(10)\n",
    "reader = Reader(rating_scale=(1,5))\n",
    "test_data = Dataset.load_from_df(test[['user', 'movie', 'rating']], reader)\n",
    "train = test_data.build_full_trainset()"
   ]
  },
  {
   "cell_type": "code",
   "execution_count": 41,
   "metadata": {},
   "outputs": [],
   "source": [
    "testset = train.build_testset()\n",
    "pred = test[['user', 'movie', 'rating']]\n",
    "l = [bsl, knn_bsl_u, knn_bsl_m, svd]\n",
    "for i in range(len(l)):\n",
    "    predictions = l[i].test(testset)\n",
    "    model_pred = pd.DataFrame([[i.uid, i.iid, i.est] for i in predictions], columns=['user', 'movie', str(i)])\n",
    "    pred = pd.merge(pred, model_pred, how='left', left_on=['user', 'movie'], right_on=['user', 'movie'])\n",
    "pred.columns = pred.columns[:3].tolist() + ['bsl', 'knn_bsl_u', 'knn_bsl_i', 'svd']"
   ]
  },
  {
   "cell_type": "code",
   "execution_count": 42,
   "metadata": {},
   "outputs": [
    {
     "data": {
      "text/html": [
       "<div>\n",
       "<style scoped>\n",
       "    .dataframe tbody tr th:only-of-type {\n",
       "        vertical-align: middle;\n",
       "    }\n",
       "\n",
       "    .dataframe tbody tr th {\n",
       "        vertical-align: top;\n",
       "    }\n",
       "\n",
       "    .dataframe thead th {\n",
       "        text-align: right;\n",
       "    }\n",
       "</style>\n",
       "<table border=\"1\" class=\"dataframe\">\n",
       "  <thead>\n",
       "    <tr style=\"text-align: right;\">\n",
       "      <th></th>\n",
       "      <th>user</th>\n",
       "      <th>movie</th>\n",
       "      <th>rating</th>\n",
       "      <th>bsl</th>\n",
       "      <th>knn_bsl_u</th>\n",
       "      <th>knn_bsl_i</th>\n",
       "      <th>svd</th>\n",
       "    </tr>\n",
       "  </thead>\n",
       "  <tbody>\n",
       "    <tr>\n",
       "      <td>0</td>\n",
       "      <td>3994</td>\n",
       "      <td>3408</td>\n",
       "      <td>5</td>\n",
       "      <td>4.152500</td>\n",
       "      <td>4.546173</td>\n",
       "      <td>4.619635</td>\n",
       "      <td>4.375931</td>\n",
       "    </tr>\n",
       "    <tr>\n",
       "      <td>1</td>\n",
       "      <td>2688</td>\n",
       "      <td>2890</td>\n",
       "      <td>3</td>\n",
       "      <td>3.625220</td>\n",
       "      <td>3.262196</td>\n",
       "      <td>3.260935</td>\n",
       "      <td>3.203131</td>\n",
       "    </tr>\n",
       "    <tr>\n",
       "      <td>2</td>\n",
       "      <td>42</td>\n",
       "      <td>1275</td>\n",
       "      <td>4</td>\n",
       "      <td>4.011893</td>\n",
       "      <td>4.126568</td>\n",
       "      <td>4.368369</td>\n",
       "      <td>4.364913</td>\n",
       "    </tr>\n",
       "    <tr>\n",
       "      <td>3</td>\n",
       "      <td>4064</td>\n",
       "      <td>593</td>\n",
       "      <td>5</td>\n",
       "      <td>3.836693</td>\n",
       "      <td>4.352050</td>\n",
       "      <td>4.207762</td>\n",
       "      <td>4.272844</td>\n",
       "    </tr>\n",
       "    <tr>\n",
       "      <td>4</td>\n",
       "      <td>889</td>\n",
       "      <td>3363</td>\n",
       "      <td>4</td>\n",
       "      <td>3.382540</td>\n",
       "      <td>3.483860</td>\n",
       "      <td>3.701131</td>\n",
       "      <td>3.793960</td>\n",
       "    </tr>\n",
       "    <tr>\n",
       "      <td>5</td>\n",
       "      <td>4520</td>\n",
       "      <td>2427</td>\n",
       "      <td>4</td>\n",
       "      <td>3.634900</td>\n",
       "      <td>3.793198</td>\n",
       "      <td>3.725985</td>\n",
       "      <td>3.715754</td>\n",
       "    </tr>\n",
       "    <tr>\n",
       "      <td>6</td>\n",
       "      <td>3436</td>\n",
       "      <td>2527</td>\n",
       "      <td>4</td>\n",
       "      <td>3.659523</td>\n",
       "      <td>3.838034</td>\n",
       "      <td>3.984053</td>\n",
       "      <td>3.565259</td>\n",
       "    </tr>\n",
       "    <tr>\n",
       "      <td>7</td>\n",
       "      <td>855</td>\n",
       "      <td>339</td>\n",
       "      <td>3</td>\n",
       "      <td>3.369182</td>\n",
       "      <td>2.982202</td>\n",
       "      <td>3.127980</td>\n",
       "      <td>2.820548</td>\n",
       "    </tr>\n",
       "    <tr>\n",
       "      <td>8</td>\n",
       "      <td>1204</td>\n",
       "      <td>2828</td>\n",
       "      <td>2</td>\n",
       "      <td>2.431690</td>\n",
       "      <td>2.092141</td>\n",
       "      <td>2.280917</td>\n",
       "      <td>2.163028</td>\n",
       "    </tr>\n",
       "    <tr>\n",
       "      <td>9</td>\n",
       "      <td>3389</td>\n",
       "      <td>2421</td>\n",
       "      <td>1</td>\n",
       "      <td>2.110623</td>\n",
       "      <td>1.527616</td>\n",
       "      <td>1.390509</td>\n",
       "      <td>1.560950</td>\n",
       "    </tr>\n",
       "  </tbody>\n",
       "</table>\n",
       "</div>"
      ],
      "text/plain": [
       "   user  movie  rating       bsl  knn_bsl_u  knn_bsl_i       svd\n",
       "0  3994   3408       5  4.152500   4.546173   4.619635  4.375931\n",
       "1  2688   2890       3  3.625220   3.262196   3.260935  3.203131\n",
       "2    42   1275       4  4.011893   4.126568   4.368369  4.364913\n",
       "3  4064    593       5  3.836693   4.352050   4.207762  4.272844\n",
       "4   889   3363       4  3.382540   3.483860   3.701131  3.793960\n",
       "5  4520   2427       4  3.634900   3.793198   3.725985  3.715754\n",
       "6  3436   2527       4  3.659523   3.838034   3.984053  3.565259\n",
       "7   855    339       3  3.369182   2.982202   3.127980  2.820548\n",
       "8  1204   2828       2  2.431690   2.092141   2.280917  2.163028\n",
       "9  3389   2421       1  2.110623   1.527616   1.390509  1.560950"
      ]
     },
     "execution_count": 42,
     "metadata": {},
     "output_type": "execute_result"
    }
   ],
   "source": [
    "pred"
   ]
  }
 ],
 "metadata": {
  "kernelspec": {
   "display_name": "Python 3",
   "language": "python",
   "name": "python3"
  },
  "language_info": {
   "codemirror_mode": {
    "name": "ipython",
    "version": 3
   },
   "file_extension": ".py",
   "mimetype": "text/x-python",
   "name": "python",
   "nbconvert_exporter": "python",
   "pygments_lexer": "ipython3",
   "version": "3.7.4"
  }
 },
 "nbformat": 4,
 "nbformat_minor": 2
}
